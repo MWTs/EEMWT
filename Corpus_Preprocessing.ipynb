{
 "cells": [
  {
   "cell_type": "code",
   "execution_count": 1,
   "id": "6fdde18f",
   "metadata": {},
   "outputs": [],
   "source": [
    "import json\n",
    "import pandas as pd\n",
    "\n",
    "# Open the JSONL file for reading\n",
    "with open(\"D:/Summer Sem 2023/Research Lab/20-04-2023/short_list.jsonl\", 'r') as f:\n",
    "    # Read the file contents into a list of dictionaries\n",
    "    json_list = list(f)\n",
    "\n",
    "# Parse the JSON objects into dictionaries\n",
    "dict_list = [json.loads(jline) for jline in json_list]\n",
    "\n",
    "# Convert the list of dictionaries into a Pandas DataFrame\n",
    "df = pd.DataFrame(dict_list)\n",
    "seperator = ','\n",
    "#Uniting all Keyword as one single column\n",
    "df['keyword_new'] = df.apply(lambda x: f\"{x['syntactic']}{seperator}{x['semantic']}{seperator}{x['union']}{seperator}{x['enhanced']}\", axis=1)\n",
    "df['keyword_new'] = df['keyword_new'].apply(lambda x: x.replace('[','').replace(']','').replace('\\'',''))\n",
    "\n",
    "# creating dataframe which contain corpus id title abstract and all keywords\n",
    "df1 = df[['corpusid','abstract','title','keyword_new']]\n",
    "\n",
    "#extracting require keyword dataset for this its artificial intelligence \n",
    "maskai = df1['keyword_new'].notna() & df1['keyword_new'].str.contains('artificial intelligence', na=False)\n",
    "ai_data = df1[maskai]\n",
    "\n",
    "#saving Ai raw data to text format \n",
    "ai_data.to_csv('D:/Summer Sem 2023/Research Lab/AIcased.txt', sep='\\t', index=False)\n",
    "\n",
    "with open('D:/Summer Sem 2023/Research Lab/AIcased.txt', 'r', encoding='utf-8') as f:\n",
    "        text = f.read()\n",
    "\n",
    "    # Convert the text to lowercase\n",
    "        lowercase_text = text.lower()\n",
    "    # Write the lowercase text to the output text file\n",
    "with open('D:/Summer Sem 2023/Research Lab/lower_ai.txt', 'w',encoding='utf-8') as f:\n",
    "        f.write(lowercase_text)\n",
    "#extracting require keyword dataset for this its telecommunication system\n",
    "masktel = df1['keyword_new'].notna() & df1['keyword_new'].str.contains('telecommunication System', na=False)\n",
    "tel_data = df1[masktel]\n",
    "\n",
    "tel_data.to_csv('D:/Summer Sem 2023/Research Lab/Telcased.txt', sep='\\t', index=False)\n",
    "with open('D:/Summer Sem 2023/Research Lab/Telcased.txt', 'r', encoding='utf-8') as f:\n",
    "        text = f.read()\n",
    "\n",
    "    # Convert the text to lowercase\n",
    "        lowercase_text = text.lower()\n",
    "    # Write the lowercase text to the output text file\n",
    "with open('D:/Summer Sem 2023/Research Lab/loweTelcased.txt', 'w',encoding='utf-8') as f:\n",
    "    f.write(lowercase_text)"
   ]
  },
  {
   "cell_type": "code",
   "execution_count": null,
   "id": "f186ff1c",
   "metadata": {},
   "outputs": [],
   "source": []
  }
 ],
 "metadata": {
  "kernelspec": {
   "display_name": "Python 3 (ipykernel)",
   "language": "python",
   "name": "python3"
  },
  "language_info": {
   "codemirror_mode": {
    "name": "ipython",
    "version": 3
   },
   "file_extension": ".py",
   "mimetype": "text/x-python",
   "name": "python",
   "nbconvert_exporter": "python",
   "pygments_lexer": "ipython3",
   "version": "3.11.4"
  }
 },
 "nbformat": 4,
 "nbformat_minor": 5
}
